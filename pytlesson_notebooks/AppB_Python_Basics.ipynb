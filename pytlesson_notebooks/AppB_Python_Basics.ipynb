{
 "cells": [
  {
   "cell_type": "markdown",
   "metadata": {},
   "source": [
    "### 1．변수와 연산"
   ]
  },
  {
   "cell_type": "code",
   "execution_count": null,
   "metadata": {},
   "outputs": [],
   "source": [
    "# 변수를 정의하고 값을 대입\n",
    "a = 10\n",
    "\n",
    "# 변수 a의 값을 출력\n",
    "a"
   ]
  },
  {
   "cell_type": "code",
   "execution_count": null,
   "metadata": {},
   "outputs": [],
   "source": [
    "# 변수 x의 값을 출력\n",
    "#x"
   ]
  },
  {
   "cell_type": "code",
   "execution_count": null,
   "metadata": {},
   "outputs": [],
   "source": [
    "# 변수를 정의하고 값을 대입\n",
    "b = 1.5\n",
    "c = -2.0\n",
    "\n",
    "# 변수 b,c의 값을 출력\n",
    "print(b)\n",
    "print(c)"
   ]
  },
  {
   "cell_type": "code",
   "execution_count": null,
   "metadata": {},
   "outputs": [],
   "source": [
    "# 변수의 데이터 타입 확인\n",
    "print(type(a))\n",
    "print(type(b))\n",
    "print(type(c))"
   ]
  },
  {
   "cell_type": "code",
   "execution_count": null,
   "metadata": {},
   "outputs": [],
   "source": [
    "# 사칙연산 예제\n",
    "e = a + b  # 합\n",
    "f = b * c  # 곱\n",
    "\n",
    "# 계산 결과 출력\n",
    "print(e)\n",
    "print(f)"
   ]
  },
  {
   "cell_type": "code",
   "execution_count": null,
   "metadata": {},
   "outputs": [],
   "source": [
    "# 변수를 정의하고 값을 대입하기\n",
    "o = 'Welcome to PyTorch'\n",
    "p = '파이토치'\n",
    "\n",
    "# 변수 o,p의 값 출력하기\n",
    "print(o)\n",
    "print(p)\n",
    "\n",
    "# 문자열을 연결하고 출력하기\n",
    "q = o + '\\t' + p\n",
    "print(q)\n",
    "\n",
    "# 문자열 치환하기\n",
    "r = q.replace('o', '*')\n",
    "print(r)"
   ]
  },
  {
   "cell_type": "code",
   "execution_count": null,
   "metadata": {},
   "outputs": [],
   "source": [
    "# 변수의 데이터 타입\n",
    "print(type(o))\n",
    "print(type(p))\n",
    "print(type(q))\n",
    "print(type(r))"
   ]
  },
  {
   "cell_type": "markdown",
   "metadata": {
    "collapsed": true
   },
   "source": [
    "### 2．데이터 구조 다루기"
   ]
  },
  {
   "cell_type": "code",
   "execution_count": null,
   "metadata": {},
   "outputs": [],
   "source": [
    "# 리스트 생성\n",
    "lst = [1, 7, 5, 3, 2]\n",
    "\n",
    "# 리스트의 데이터 타입 확인\n",
    "print(type(lst))\n",
    "\n",
    "# 첫 번째 요소값에 접근\n",
    "print(lst[0])\n",
    "# 마지막 요소값에 접근\n",
    "print(lst[4])\n",
    "print(lst[-1])\n",
    "\n",
    "# 첫 번째부터 세 번째 요소를 담은 부분 리스트\n",
    "print(lst[0:3])\n",
    "\n",
    "# 요소값의 오름차순으로 정렬\n",
    "print(sorted(lst))"
   ]
  },
  {
   "cell_type": "code",
   "execution_count": null,
   "metadata": {},
   "outputs": [],
   "source": [
    "# 리스트 생성\n",
    "lst = [1, 7, 5, 3, 2]\n",
    "\n",
    "# 요소 추가\n",
    "lst.append(4)\n",
    "print(lst)\n",
    "lst.append([5, 8])\n",
    "print(lst)\n",
    "lst.extend([5, 8])\n",
    "print(lst)\n",
    "\n",
    "# 요소 삭제\n",
    "lst.remove(4)\n",
    "print(lst)\n",
    "\n",
    "# 요소 삽입\n",
    "lst.insert(3, 5)\n",
    "print(lst)\n",
    "\n",
    "# 특정 요소 개수 세기\n",
    "print(lst.count(5))"
   ]
  },
  {
   "cell_type": "code",
   "execution_count": null,
   "metadata": {},
   "outputs": [],
   "source": [
    "# 튜플 생성\n",
    "tpl = (1, 7, 5, 3, 2)\n",
    "\n",
    "# 튜플의 데이터 타입 확인\n",
    "print(type(tpl))\n",
    "\n",
    "# 첫 번째 요소값에 접근\n",
    "print(tpl[0])\n",
    "# 마지막 요소값에 접근\n",
    "print(tpl[4])\n",
    "print(tpl[-1])\n",
    "\n",
    "# 첫 번째부터 세 번째 요소를 담은 부분 튜플\n",
    "print(tpl[0:3])\n",
    "\n",
    "# 요소를 오름차순으로 정렬한 리스트\n",
    "print(sorted(tpl))"
   ]
  },
  {
   "cell_type": "code",
   "execution_count": null,
   "metadata": {},
   "outputs": [],
   "source": [
    "# 딕셔너리 생성\n",
    "dic = {0:'Welcome to PyTorch', 1:'파이토치', 2:'PyTorch'}\n",
    "\n",
    "# 딕셔너리의 데이터 타입 확인\n",
    "print(type(dic))\n",
    "\n",
    "# 첫 번째 요소값에 접근\n",
    "print(dic[0])\n",
    "# 마지막 요소값에 접근\n",
    "print(dic[2])\n",
    "\n",
    "# 요소 추가\n",
    "dic[4] = 'Python'\n",
    "print(dic)\n",
    "\n",
    "# 키-값 쌍 목록 보기\n",
    "print(dic.items())\n",
    "# 키의 목록 보기\n",
    "print(dic.keys())\n",
    "# 값의 목록 보기\n",
    "print(dic.values())"
   ]
  },
  {
   "cell_type": "markdown",
   "metadata": {
    "collapsed": true
   },
   "source": [
    "### 3．제어문 활용"
   ]
  },
  {
   "cell_type": "code",
   "execution_count": null,
   "metadata": {},
   "outputs": [],
   "source": [
    "# 리스트 생성\n",
    "lst = [1, 7, 5, 3, 2]\n",
    "\n",
    "# for 문으로 리스트 순회\n",
    "i = 0\n",
    "for i in lst:\n",
    "    print(i)"
   ]
  },
  {
   "cell_type": "code",
   "execution_count": null,
   "metadata": {},
   "outputs": [],
   "source": [
    "# 리스트 생성\n",
    "lst = [1, 7, 5, 3, 2]\n",
    "\n",
    "# while 문으로 리스트 순회\n",
    "i = 0\n",
    "while i < len(lst):\n",
    "    print(lst[i])\n",
    "    i = i + 1"
   ]
  },
  {
   "cell_type": "code",
   "execution_count": null,
   "metadata": {},
   "outputs": [],
   "source": [
    "# 리스트 생성\n",
    "lst = [1, 7, 5, 3, 2]\n",
    "\n",
    "# while 문으로 리스트 순회\n",
    "i = 0\n",
    "while i < len(lst):\n",
    "    # 2로 나누어 떨어지는 요소를 출력\n",
    "    if not lst[i]%2:\n",
    "        print(lst[i])\n",
    "    i = i + 1"
   ]
  },
  {
   "cell_type": "code",
   "execution_count": null,
   "metadata": {},
   "outputs": [],
   "source": [
    "# 변수 정의\n",
    "s = 'PyTorch'\n",
    "\n",
    "# 문자열을 한 글자씩 순회\n",
    "c = 0\n",
    "for c in s:\n",
    "    print(c)"
   ]
  },
  {
   "cell_type": "markdown",
   "metadata": {
    "collapsed": true
   },
   "source": [
    "### 4．컴프리헨션 문법 활용"
   ]
  },
  {
   "cell_type": "code",
   "execution_count": null,
   "metadata": {},
   "outputs": [],
   "source": [
    "# 빈 리스트를 생성\n",
    "lst1 = []\n",
    "\n",
    "# 리스트에 요소 추가\n",
    "for i in range(10):\n",
    "    lst1.append(i)\n",
    "print(lst1)\n",
    "\n",
    "# 리스트 생성과 동시에 요소 추가\n",
    "lst2 = [i for i in range(10)]\n",
    "print(lst2)"
   ]
  },
  {
   "cell_type": "code",
   "execution_count": null,
   "metadata": {},
   "outputs": [],
   "source": [
    "# 빈 딕셔너리 생성\n",
    "dic1 = {}\n",
    "\n",
    "# 딕셔너리에 요소 추가\n",
    "for i in range(5):\n",
    "    dic1[i] = chr(i + 65)\n",
    "print(dic1)\n",
    "\n",
    "# 딕셔너리 생성과 동시에 요소 추가\n",
    "dic2 = {i:chr(i + 65) for i in range(5)}\n",
    "print(dic2)"
   ]
  },
  {
   "cell_type": "markdown",
   "metadata": {
    "collapsed": true
   },
   "source": [
    "### 5．함수 활용"
   ]
  },
  {
   "cell_type": "code",
   "execution_count": null,
   "metadata": {},
   "outputs": [],
   "source": [
    "# 함수 정의\n",
    "def calc(x, y, op='+'):\n",
    "    if op == '+':\n",
    "        z = x + y\n",
    "    elif op == '-':\n",
    "        z = x - y\n",
    "    elif op == '*':\n",
    "        z = x * y\n",
    "    elif op == '/':\n",
    "        z = x / y\n",
    "    return z\n",
    "\n",
    "# 함수 호출\n",
    "add = calc(1, 2)\n",
    "print(add)\n",
    "mul = calc(3, 4, '*')\n",
    "print(mul)\n",
    "div = calc(op='/', x=10, y=5)\n",
    "print(div)"
   ]
  },
  {
   "cell_type": "code",
   "execution_count": null,
   "metadata": {},
   "outputs": [],
   "source": [
    "# 함수 정의\n",
    "def add_tpl(x, y, *args):\n",
    "    for arg in args:\n",
    "        print(arg)\n",
    "\n",
    "# 함수 호출\n",
    "add_tpl(1, 2, 3, [4, 5], 'PyTorch', ['PyTorch', '파이토치'])"
   ]
  },
  {
   "cell_type": "code",
   "execution_count": null,
   "metadata": {},
   "outputs": [],
   "source": [
    "# 함수 정의\n",
    "def add_dic(id1='PyTorch', id2='파이토치', **kwargs):\n",
    "    for k,v in kwargs.items():\n",
    "        print(k + ':' + v)\n",
    "\n",
    "# 함수 호출\n",
    "add_dic(id3='Python')"
   ]
  },
  {
   "cell_type": "markdown",
   "metadata": {
    "collapsed": true
   },
   "source": [
    "### 6．클래스 활용"
   ]
  },
  {
   "cell_type": "code",
   "execution_count": null,
   "metadata": {},
   "outputs": [],
   "source": [
    "# 클래스 정의\n",
    "class cls:\n",
    "    pass\n",
    "\n",
    "# 인스턴스 생성\n",
    "f = cls()\n",
    "print(f)\n",
    "print(type(f))"
   ]
  },
  {
   "cell_type": "code",
   "execution_count": null,
   "metadata": {},
   "outputs": [],
   "source": [
    "# 클래스 정의\n",
    "class cls:\n",
    "    # 인스턴스 초기화\n",
    "    def __init__(self, val):\n",
    "        # 변수 초기화\n",
    "        self.val = val\n",
    "    \n",
    "    # 인스턴스 메서드\n",
    "    def view(self):\n",
    "        print(self.val)\n",
    "\n",
    "# 인스턴스 생성 및 메서드 호출\n",
    "f = cls(3)\n",
    "f.view()\n",
    "\n",
    "f = cls('PyTorch')\n",
    "f.view()"
   ]
  },
  {
   "cell_type": "code",
   "execution_count": null,
   "metadata": {},
   "outputs": [],
   "source": [
    "# 클래스 정의\n",
    "class cls:\n",
    "    # 인스턴스 초기화\n",
    "    def __init__(self, val):\n",
    "        # 변수 초기화\n",
    "        self.val = val\n",
    "    \n",
    "    # 인스턴스 메서드\n",
    "    def view1(self):\n",
    "        print(self.val)\n",
    "    \n",
    "    def view2(self):\n",
    "        print('파이토치')\n",
    "        self.view1()\n",
    "\n",
    "# 인스턴스 생성 및 메서드 호출\n",
    "f = cls(3)\n",
    "f.view1()\n",
    "f.view2()"
   ]
  },
  {
   "cell_type": "code",
   "execution_count": null,
   "metadata": {},
   "outputs": [],
   "source": [
    "# 클래스 정의\n",
    "class calc:\n",
    "    # 인스턴스 초기화\n",
    "    def __init__(self, x, y):\n",
    "        self.x = x\n",
    "        self.y = y\n",
    "    \n",
    "    def add(self):\n",
    "        z = self.x + self.y\n",
    "        print(z)\n",
    "\n",
    "    def mul(self):\n",
    "        z = self.x * self.y\n",
    "        print(z)\n",
    "    \n",
    "    def apnd(self):\n",
    "        z = []\n",
    "        z.append(self.x)\n",
    "        z.append(self.y)\n",
    "        print(z)\n",
    "        \n",
    "f = calc(3, 5)\n",
    "f.add()\n",
    "f.mul()\n",
    "f.apnd()"
   ]
  },
  {
   "cell_type": "code",
   "execution_count": null,
   "metadata": {},
   "outputs": [],
   "source": [
    "# 클래스 정의\n",
    "class cls1:\n",
    "    # 인스턴스 초기화\n",
    "    def __init__(self, cls1_val):\n",
    "        # 변수 초기화\n",
    "        self.cls1_val = cls1_val\n",
    "        \n",
    "# 클래스 정의\n",
    "class cls2(cls1):\n",
    "    # 인스턴스 초기화\n",
    "    def __init__(self, cls1_val, cls2_val):\n",
    "        # cls1의 생성자 메서드를 호출\n",
    "        super().__init__(cls1_val)\n",
    "        # 변수 초기화\n",
    "        self.cls2_val = cls2_val\n",
    "\n",
    "f = cls2(3, 5)\n",
    "print(f.cls1_val)\n",
    "print(f.cls2_val)"
   ]
  },
  {
   "cell_type": "code",
   "execution_count": null,
   "metadata": {},
   "outputs": [],
   "source": [
    "# 클래스 정의\n",
    "class cls1:\n",
    "    # 인스턴스 초기화\n",
    "    def __init__(self, cls1_val):\n",
    "        # 변수 초기화\n",
    "        self.cls1_val = cls1_val\n",
    "        \n",
    "    # 인스턴스 메서드\n",
    "    def view(self):\n",
    "        print('클래스1')\n",
    "\n",
    "# 클래스 정의\n",
    "class cls2(cls1):\n",
    "    # 인스턴스 초기화\n",
    "    def __init__(self, cls1_val, cls2_val):\n",
    "        # cls1의 생성자 메서드 호출\n",
    "        super().__init__(cls1_val)\n",
    "        # 변수 초기화\n",
    "        self.cls2_val = cls2_val\n",
    "\n",
    "    # 인스턴스 메서드\n",
    "    def view(self):\n",
    "        #super().view()\n",
    "        print('클래스2')\n",
    "\n",
    "f = cls2(3, 5)\n",
    "f.view()"
   ]
  },
  {
   "cell_type": "markdown",
   "metadata": {
    "collapsed": true
   },
   "source": [
    "### 7．파일 다루기"
   ]
  },
  {
   "cell_type": "code",
   "execution_count": null,
   "metadata": {
    "scrolled": true
   },
   "outputs": [],
   "source": [
    "# 파일 열기\n",
    "fp = open('test.txt', 'r')\n",
    "\n",
    "# 파일 전체를 한번에 읽기\n",
    "txt = fp.read()\n",
    "print(txt)\n",
    "\n",
    "# 파일 닫기\n",
    "fp.close()"
   ]
  },
  {
   "cell_type": "code",
   "execution_count": null,
   "metadata": {},
   "outputs": [],
   "source": [
    "# 파일 열기\n",
    "fp = open('test.txt', 'r')\n",
    "\n",
    "# 파일을 한줄씩 읽기\n",
    "txt = fp.readline()\n",
    "print(txt)\n",
    "txt = fp.readline()\n",
    "print(txt)\n",
    "\n",
    "# 파일 닫기\n",
    "fp.close()"
   ]
  },
  {
   "cell_type": "code",
   "execution_count": null,
   "metadata": {},
   "outputs": [],
   "source": [
    "# 파일 열기\n",
    "fp = open('test.txt', 'r')\n",
    "\n",
    "# 파일을 한 줄씩 읽기\n",
    "for line in fp:\n",
    "    print(line)\n",
    "\n",
    "# 파일 닫기\n",
    "fp.close()"
   ]
  },
  {
   "cell_type": "code",
   "execution_count": null,
   "metadata": {},
   "outputs": [],
   "source": [
    "# 파일을 열고 (묵시적으로) 닫기\n",
    "with open('test.txt', 'r') as fp:\n",
    "    # 파일을 한 줄씩 읽기\n",
    "    for line in fp:\n",
    "        print(line)"
   ]
  }
 ],
 "metadata": {
  "kernelspec": {
   "display_name": "Python 3",
   "language": "python",
   "name": "python3"
  },
  "language_info": {
   "codemirror_mode": {
    "name": "ipython",
    "version": 3
   },
   "file_extension": ".py",
   "mimetype": "text/x-python",
   "name": "python",
   "nbconvert_exporter": "python",
   "pygments_lexer": "ipython3",
   "version": "3.6.6"
  }
 },
 "nbformat": 4,
 "nbformat_minor": 2
}
