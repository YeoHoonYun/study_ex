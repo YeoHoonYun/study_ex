{
 "cells": [
  {
   "cell_type": "code",
   "execution_count": null,
   "metadata": {},
   "outputs": [],
   "source": [
    "# gym 라이브러리 임포트\n",
    "import gym\n",
    "\n",
    "# 환경 생성\n",
    "env = gym.make('FrozenLake-v0')"
   ]
  },
  {
   "cell_type": "code",
   "execution_count": null,
   "metadata": {},
   "outputs": [],
   "source": [
    "# 게임 시작\n",
    "for i_episode in range(20):\n",
    "    observation = env.reset()\n",
    "    \n",
    "    for t in range(100):\n",
    "        # 필드 그리기\n",
    "        env.render()\n",
    "        \n",
    "        # 무작위로 행동을 선택\n",
    "        action = env.action_space.sample()\n",
    "\n",
    "        # 1턴 진행\n",
    "        observation, reward, done, info = env.step(action)\n",
    "        print(observation, reward, done, info, action)\n",
    "\n",
    "        # 종료\n",
    "        if done:\n",
    "            print(\"Episode finished after {} timesteps\".format(t+1))\n",
    "            break"
   ]
  },
  {
   "cell_type": "code",
   "execution_count": null,
   "metadata": {},
   "outputs": [],
   "source": [
    "# 환경변수 값의 가짓수\n",
    "print(env.observation_space.n)\n",
    "# 행동변수 값의 가짓수\n",
    "print(env.action_space.n)"
   ]
  }
 ],
 "metadata": {
  "kernelspec": {
   "display_name": "Python 3",
   "language": "python",
   "name": "python3"
  },
  "language_info": {
   "codemirror_mode": {
    "name": "ipython",
    "version": 3
   },
   "file_extension": ".py",
   "mimetype": "text/x-python",
   "name": "python",
   "nbconvert_exporter": "python",
   "pygments_lexer": "ipython3",
   "version": "3.6.6"
  }
 },
 "nbformat": 4,
 "nbformat_minor": 2
}
