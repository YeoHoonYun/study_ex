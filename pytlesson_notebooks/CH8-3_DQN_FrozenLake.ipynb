{
 "cells": [
  {
   "cell_type": "code",
   "execution_count": null,
   "metadata": {
    "collapsed": true
   },
   "outputs": [],
   "source": [
    "# gym 라이브러리 임포트\n",
    "import gym\n",
    "# NumPy 라이브러리 임포트\n",
    "import numpy as np\n",
    "\n",
    "# PyTorch 라이브러리 임포트\n",
    "import torch\n",
    "from torch import nn\n",
    "from torch.autograd import Variable\n",
    "from torch import optim\n",
    "from torch.nn import functional as F\n",
    "\n",
    "# 환경 생성하기\n",
    "env = gym.make('FrozenLake-v0')"
   ]
  },
  {
   "cell_type": "code",
   "execution_count": null,
   "metadata": {
    "collapsed": true
   },
   "outputs": [],
   "source": [
    "# 신경망 구성\n",
    "class Net(nn.Module):\n",
    "    def __init__(self):\n",
    "        super(Net, self).__init__()\n",
    "        self.fc1 = nn.Linear(16, 64)\n",
    "        self.fc2 = nn.Linear(64, 64)\n",
    "        self.fc3 = nn.Linear(64, 96)\n",
    "        self.fc4 = nn.Linear(96, 96)\n",
    "        self.fc5 = nn.Linear(96, 64)\n",
    "        self.fc6 = nn.Linear(64, 64)\n",
    "        self.fc7 = nn.Linear(64, 4)\n",
    "        \n",
    "    def forward(self, x):\n",
    "        x = Variable(x)\n",
    "        x = F.relu(self.fc1(x))\n",
    "        x = F.relu(self.fc2(x))\n",
    "        x = F.relu(self.fc3(x))\n",
    "        x = F.relu(self.fc4(x))\n",
    "        x = F.relu(self.fc5(x))\n",
    "        x = F.relu(self.fc6(x))\n",
    "        x = self.fc7(x)\n",
    "        return x\n",
    "\n",
    "# 인스턴스 생성\n",
    "model = Net()"
   ]
  },
  {
   "cell_type": "code",
   "execution_count": null,
   "metadata": {
    "collapsed": true
   },
   "outputs": [],
   "source": [
    "# one-hot 벡터를 텐서로 변환\n",
    "def onehot2tensor(state):\n",
    "    tmp = np.zeros(16)\n",
    "    tmp[state] = 1\n",
    "    vector = np.array(tmp, dtype='float32')\n",
    "    tensor = torch.from_numpy(vector).float()\n",
    "    return tensor\n",
    "\n",
    "# 모형에 입력\n",
    "def applymodel(tensor):\n",
    "    output_tensor = model(tensor)\n",
    "    output_array = output_tensor.data.numpy()                \n",
    "    return output_tensor, output_array"
   ]
  },
  {
   "cell_type": "code",
   "execution_count": null,
   "metadata": {
    "scrolled": true
   },
   "outputs": [],
   "source": [
    "# 총 보상\n",
    "total_reward = 0.0\n",
    "# 오차함수 객체 생성\n",
    "criterion = nn.MSELoss()\n",
    "# 최적화를 담당할 객체 생성\n",
    "optimizer = optim.Adam(model.parameters(), lr=0.01)\n",
    "\n",
    "# 게임 시작\n",
    "for i_episode in range(10000):\n",
    "    # 초기화\n",
    "    observation = env.reset()\n",
    "    # 현재 게임의 보상\n",
    "    episode_reward = 0.0\n",
    "    # 오차 누적 계산\n",
    "    total_loss = 0.0\n",
    "\n",
    "    for t in range(100):\n",
    "        # 1턴 실행 후의 위치를 현재 위치로 삼음\n",
    "        current_state = observation\n",
    "        \n",
    "        # 경사를 초기화\n",
    "        optimizer.zero_grad()\n",
    "\n",
    "        # onehot 벡터를 텐서로 변환\n",
    "        current_tensor = onehot2tensor(current_state)\n",
    "        # 모형에 입력\n",
    "        current_output_tensor, current_output_array = applymodel(current_tensor)\n",
    "        \n",
    "        # 행동 선택하기\n",
    "        if np.random.rand() < 0.1:\n",
    "            # 무작위로 선택\n",
    "            action = env.action_space.sample()\n",
    "        else:\n",
    "            # Q값이 최대가 되도록 선택\n",
    "            action = np.argmax(current_output_array)\n",
    "\n",
    "        # 1턴 실행\n",
    "        observation, reward, done, info = env.step(action)\n",
    "\n",
    "        # onehot 벡터를 텐서로 변환\n",
    "        observation_tensor = onehot2tensor(observation)\n",
    "        # 모형에 입력\n",
    "        observation_output_tensor, observation_output_array = applymodel(observation_tensor)\n",
    "        \n",
    "        # Q값 업데이트\n",
    "        q = reward + 0.99 * np.max(observation_output_array)\n",
    "        q_array = np.copy(current_output_array)\n",
    "        q_array[action] = q\n",
    "        q_variable = Variable(torch.Tensor(q_array))\n",
    "\n",
    "        # 오차 계산\n",
    "        loss = criterion(current_output_tensor, q_variable)\n",
    "        # 역전파 계산\n",
    "        loss.backward()\n",
    "        # 가중치 업데이트\n",
    "        optimizer.step()\n",
    "        # 오차 누적 계산\n",
    "        total_loss += loss.data[0]\n",
    "        \n",
    "        # 종료\n",
    "        if done:\n",
    "            # 현재 게임 보상 누적 계산\n",
    "            episode_reward += reward\n",
    "            \n",
    "    # 총 보상 누적 계산\n",
    "    total_reward += episode_reward\n",
    "    \n",
    "    # 누적 오차 및 보상을 1000게임마다 출력\n",
    "    if (i_episode+1) % 1000 == 0:\n",
    "        print(i_episode+1, total_loss, total_reward)        "
   ]
  },
  {
   "cell_type": "code",
   "execution_count": null,
   "metadata": {},
   "outputs": [],
   "source": [
    "# 총 보상을 출력\n",
    "print(total_reward)\n",
    "\n",
    "# 게임당 평균 보상을 출력\n",
    "print(total_reward/10000)"
   ]
  },
  {
   "cell_type": "code",
   "execution_count": null,
   "metadata": {
    "collapsed": true
   },
   "outputs": [],
   "source": [
    "# 총 보상\n",
    "total_reward = 0.0\n",
    "\n",
    "# 게임 시작\n",
    "for i_episode in range(1000):\n",
    "    # 초기화\n",
    "    observation = env.reset()\n",
    "    # 현재 게임 보상\n",
    "    episode_reward = 0.0\n",
    "\n",
    "    for t in range(100):\n",
    "        # 1턴 실행 후의 위치를 현재 위치로 삼음\n",
    "        current_state = observation\n",
    "        \n",
    "        # one-hot 벡터를 텐서로 변환\n",
    "        current_tensor = onehot2tensor(current_state)\n",
    "        # 모형에 입력\n",
    "        current_output_tensor, current_output_array = applymodel(current_tensor)\n",
    "        \n",
    "        # Q값이 최대가 되는 행동을 선택\n",
    "        action = np.argmax(current_output_array)\n",
    "\n",
    "        # 1턴 실행\n",
    "        observation, reward, done, info = env.step(action)\n",
    "        \n",
    "        # 종료\n",
    "        if done:\n",
    "            # 현재 게임 보상을 누적 계산\n",
    "            episode_reward += reward\n",
    "            \n",
    "    # 총 보상을 누적 계산\n",
    "    total_reward += episode_reward"
   ]
  },
  {
   "cell_type": "code",
   "execution_count": null,
   "metadata": {},
   "outputs": [],
   "source": [
    "# 총 보상을 출력\n",
    "print(total_reward)\n",
    "\n",
    "# 게임당 평균 보상을 출력\n",
    "print(total_reward/1000)"
   ]
  }
 ],
 "metadata": {
  "kernelspec": {
   "display_name": "Python 3",
   "language": "python",
   "name": "python3"
  },
  "language_info": {
   "codemirror_mode": {
    "name": "ipython",
    "version": 3
   },
   "file_extension": ".py",
   "mimetype": "text/x-python",
   "name": "python",
   "nbconvert_exporter": "python",
   "pygments_lexer": "ipython3",
   "version": "3.6.6"
  }
 },
 "nbformat": 4,
 "nbformat_minor": 2
}
