{
 "cells": [
  {
   "cell_type": "code",
   "execution_count": null,
   "metadata": {
    "scrolled": true
   },
   "outputs": [],
   "source": [
    "# Scikit-learn 라이브러리를 임포트\n",
    "from sklearn.datasets import load_wine\n",
    "\n",
    "# 와인 데이터 읽어오기\n",
    "wine = load_wine()\n",
    "wine"
   ]
  },
  {
   "cell_type": "markdown",
   "metadata": {
    "collapsed": true
   },
   "source": [
    "### 1．NumPy 라이브러리"
   ]
  },
  {
   "cell_type": "code",
   "execution_count": null,
   "metadata": {
    "collapsed": true,
    "scrolled": true
   },
   "outputs": [],
   "source": [
    "# NumPy 라이브러리 임포트\n",
    "import numpy as np"
   ]
  },
  {
   "cell_type": "code",
   "execution_count": null,
   "metadata": {
    "scrolled": true
   },
   "outputs": [],
   "source": [
    "# 와인 성분 데이터를 화면에 출력\n",
    "wine.data"
   ]
  },
  {
   "cell_type": "code",
   "execution_count": null,
   "metadata": {
    "scrolled": true
   },
   "outputs": [],
   "source": [
    "# 와인 품종 데이터를 화면에 출력\n",
    "wine.target"
   ]
  },
  {
   "cell_type": "code",
   "execution_count": null,
   "metadata": {},
   "outputs": [],
   "source": [
    "# 와인 데이터의 데이터 타입 확인\n",
    "print(type(wine.data))\n",
    "print(type(wine.target))"
   ]
  },
  {
   "cell_type": "code",
   "execution_count": null,
   "metadata": {},
   "outputs": [],
   "source": [
    "# 와인 데이터의 차원 수\n",
    "print(wine.data.ndim)\n",
    "print(wine.target.ndim)\n",
    "\n",
    "# 와인 데이터의 행과 열의 수\n",
    "print(wine.data.shape)\n",
    "print(wine.target.shape)\n",
    "\n",
    "# 와인 데이터의 요소 수\n",
    "print(wine.data.size)\n",
    "print(wine.target.size)\n",
    "\n",
    "# 와인 데이터 요소 값의 데이터 타입\n",
    "print(wine.data.dtype)\n",
    "print(wine.target.dtype)"
   ]
  },
  {
   "cell_type": "code",
   "execution_count": null,
   "metadata": {
    "scrolled": true
   },
   "outputs": [],
   "source": [
    "# 와인 성분 데이터의 첫 번째 데이터\n",
    "print(wine.data[0])\n",
    "\n",
    "# 와인 성분 데이터의 첫 번째부터 다섯 번째 데이터\n",
    "print(wine.data[0:5])\n",
    "\n",
    "# 와인 성분 데이터의 첫 번째 데이터의 첫 번째 필드\n",
    "print(wine.data[0][0])\n",
    "\n",
    "# 와인 성분 데이터의 첫 번째 데이터의 첫 번째부터 다섯 번째 필드\n",
    "print(wine.data[0][0:5])"
   ]
  },
  {
   "cell_type": "code",
   "execution_count": null,
   "metadata": {
    "scrolled": true
   },
   "outputs": [],
   "source": [
    "# 와인 성분 데이터의 첫 번째부터 다섯 번째 데이터를 꺼냄\n",
    "dat_attr = wine.data[0:5]\n",
    "\n",
    "# 난수를 65개 생성해 배열에 저장\n",
    "dat_rand = np.random.rand(65)\n",
    "print(dat_rand)\n",
    "\n",
    "# 65*1 크기의 1차원 배열을 5*13 크기의 2차원 배열로 변환\n",
    "dat_rand = dat_rand.reshape(5, 13)\n",
    "print(dat_rand)\n",
    "\n",
    "# 배열의 합\n",
    "dat_add = dat_attr + dat_rand\n",
    "print(dat_add)\n",
    "\n",
    "# 배열 요소끼리의 연산\n",
    "elem_add = dat_attr[0][0] + dat_rand[0][0]\n",
    "print(elem_add)\n",
    "\n",
    "# 5*13 크기의 2차원 배열을 65*1 1차원 배열로 변환\n",
    "dat_rand = dat_rand.flatten()\n",
    "print(dat_rand)\n",
    "\n",
    "# 요소 값의 데이터 타입 변경\n",
    "dat_add = np.array(dat_add, dtype='int32')\n",
    "print(dat_add)"
   ]
  },
  {
   "cell_type": "markdown",
   "metadata": {},
   "source": [
    "### 2．pandas 라이브러리"
   ]
  },
  {
   "cell_type": "code",
   "execution_count": null,
   "metadata": {
    "collapsed": true,
    "scrolled": true
   },
   "outputs": [],
   "source": [
    "# pandas 라이브러리 임포트\n",
    "import pandas as pd"
   ]
  },
  {
   "cell_type": "code",
   "execution_count": null,
   "metadata": {
    "scrolled": true
   },
   "outputs": [],
   "source": [
    "# 와인 성분 데이터를 데이터프레임으로 변환하고 화면에 출력\n",
    "df_attr = pd.DataFrame(wine.data, columns=wine.feature_names)\n",
    "df_attr"
   ]
  },
  {
   "cell_type": "code",
   "execution_count": null,
   "metadata": {
    "scrolled": true
   },
   "outputs": [],
   "source": [
    "# 와인 품종 데이터를 데이터프레임으로 변환하고 화면에 출력\n",
    "df_label = pd.DataFrame(wine.target)\n",
    "df_label"
   ]
  },
  {
   "cell_type": "code",
   "execution_count": null,
   "metadata": {},
   "outputs": [],
   "source": [
    "# 와인 성분 데이터 및 품종 데이터 요소값의 데이터 타입\n",
    "print(type(df_attr))\n",
    "print(type(df_label))"
   ]
  },
  {
   "cell_type": "code",
   "execution_count": null,
   "metadata": {
    "scrolled": true
   },
   "outputs": [],
   "source": [
    "# 와인 성분 데이터의 처음 다섯 줄을 화면에 출력\n",
    "df_attr.head(5)"
   ]
  },
  {
   "cell_type": "code",
   "execution_count": null,
   "metadata": {
    "scrolled": true
   },
   "outputs": [],
   "source": [
    "# 와인 성분 데이터의 마지막 다섯 줄을 화면에 출력\n",
    "df_attr.tail(5)"
   ]
  },
  {
   "cell_type": "code",
   "execution_count": null,
   "metadata": {
    "scrolled": false
   },
   "outputs": [],
   "source": [
    "# 와인 성분 데이터의 요약 정보를 출력\n",
    "df_attr.info()"
   ]
  },
  {
   "cell_type": "code",
   "execution_count": null,
   "metadata": {
    "scrolled": true
   },
   "outputs": [],
   "source": [
    "# 와인 성분 데이터의 누락값 유무를 확인\n",
    "df_attr.isnull().any(axis=0)"
   ]
  },
  {
   "cell_type": "code",
   "execution_count": null,
   "metadata": {
    "scrolled": true
   },
   "outputs": [],
   "source": [
    "# alcohol 칼럼의 내용을 출력\n",
    "df_alcohol = df_attr['alcohol']\n",
    "df_alcohol\n",
    "\n",
    "df_alcohol = df_attr.iloc[:,0]\n",
    "df_alcohol"
   ]
  },
  {
   "cell_type": "code",
   "execution_count": null,
   "metadata": {
    "scrolled": true
   },
   "outputs": [],
   "source": [
    "# alcohol 칼럼과 malic_acid 칼럼의 내용을 출력\n",
    "df_alcohol_malic_acid = df_attr[['alcohol', 'malic_acid']]\n",
    "df_alcohol_malic_acid\n",
    "\n",
    "df_alcohol_malic_acid = df_attr.iloc[:,0:2]\n",
    "df_alcohol_malic_acid"
   ]
  },
  {
   "cell_type": "code",
   "execution_count": null,
   "metadata": {
    "scrolled": true
   },
   "outputs": [],
   "source": [
    "# 조건을 만족하는 데이터의 alcohol 칼럼과 malic_acid 칼럼을 출력\n",
    "df_alcohol_malic_acid[df_alcohol_malic_acid['alcohol'] >= 13.5]['malic_acid']"
   ]
  },
  {
   "cell_type": "code",
   "execution_count": null,
   "metadata": {},
   "outputs": [],
   "source": [
    "# alcohol 칼럼의 데이터 타입\n",
    "print(type(df_alcohol))\n",
    "\n",
    "# alcohol 칼럼과 malic_acid 칼럼의 데이터 타입\n",
    "print(type(df_alcohol_malic_acid))"
   ]
  },
  {
   "cell_type": "code",
   "execution_count": null,
   "metadata": {},
   "outputs": [],
   "source": [
    "# 각종 통계값 계산하기\n",
    "print(df_alcohol.sum()) # 합계\n",
    "print(df_alcohol.mean()) # 평균\n",
    "print(df_alcohol.std()) # 표준편차\n",
    "print(df_alcohol.median()) # 중앙값\n",
    "print(df_alcohol.max()) # 최댓값\n",
    "print(df_alcohol.min()) # 최솟값"
   ]
  },
  {
   "cell_type": "code",
   "execution_count": null,
   "metadata": {
    "scrolled": true
   },
   "outputs": [],
   "source": [
    "# 와인 품종 데이터에서 값 치환\n",
    "df_label = df_label.replace(0, 'class_0')\n",
    "df_label = df_label.replace(1, 'class_1')\n",
    "df_label = df_label.replace(2, 'class_2')\n",
    "\n",
    "# 칼럼명 변경\n",
    "df_label.columns = ['label']\n",
    "df_label"
   ]
  },
  {
   "cell_type": "code",
   "execution_count": null,
   "metadata": {
    "scrolled": true
   },
   "outputs": [],
   "source": [
    "# 품종 데이터와 성분 데이터를 연접하고 그 결과를 출력\n",
    "df_attr_label = pd.concat([df_attr, df_label], axis=1)\n",
    "df_attr_label"
   ]
  },
  {
   "cell_type": "code",
   "execution_count": null,
   "metadata": {},
   "outputs": [],
   "source": [
    "# 피봇 테이블 생성\n",
    "df_attr_label.pivot_table(values=['alcohol','malic_acid','ash'], columns=['label'], aggfunc='mean')"
   ]
  },
  {
   "cell_type": "code",
   "execution_count": null,
   "metadata": {
    "scrolled": true
   },
   "outputs": [],
   "source": [
    "# CSV 파일 읽어 들이기\n",
    "df_sample = pd.read_csv('sample.csv')\n",
    "df_sample"
   ]
  },
  {
   "cell_type": "code",
   "execution_count": null,
   "metadata": {
    "scrolled": false
   },
   "outputs": [],
   "source": [
    "# CSV 파일 읽어 들이기\n",
    "df_sample = pd.read_csv('sample.csv', header=None)\n",
    "df_sample"
   ]
  },
  {
   "cell_type": "code",
   "execution_count": null,
   "metadata": {
    "scrolled": true
   },
   "outputs": [],
   "source": [
    "# CSV 파일 읽어 들이기\n",
    "df_sample = pd.read_csv('sample.csv', \n",
    "                        names=('att1','att2','att3','att4','att5'))\n",
    "df_sample"
   ]
  },
  {
   "cell_type": "code",
   "execution_count": null,
   "metadata": {},
   "outputs": [],
   "source": [
    "# CSV 파일 읽어 들이기\n",
    "df_sample = pd.read_csv('sample.csv', \n",
    "                        names=('att1','att2','att3','att4','att5'), skiprows=1)\n",
    "df_sample"
   ]
  },
  {
   "cell_type": "code",
   "execution_count": null,
   "metadata": {},
   "outputs": [],
   "source": [
    "# CSV 파일 읽어 들이기\n",
    "df_sample = pd.read_csv('sample.csv', \n",
    "                        names=('att1','att2','att3','att4','att5'), skiprows=[0,1,4])\n",
    "df_sample"
   ]
  },
  {
   "cell_type": "markdown",
   "metadata": {},
   "source": [
    "### 3．Matplotlib 라이브러리"
   ]
  },
  {
   "cell_type": "code",
   "execution_count": null,
   "metadata": {
    "collapsed": true
   },
   "outputs": [],
   "source": [
    "# Matplotlib 라이브러리 임포트\n",
    "import matplotlib.pyplot as plt\n",
    "%matplotlib inline"
   ]
  },
  {
   "cell_type": "code",
   "execution_count": null,
   "metadata": {},
   "outputs": [],
   "source": [
    "# 와인 품종이 class_0인 데이터의 성분만을 추출\n",
    "class_0 = df_attr_label[df_attr_label['label'] == 'class_0']\n",
    "\n",
    "# alcohol 칼럼 값의 분포에 대한 히스토그램을 작성\n",
    "plt.hist(class_0['alcohol'])\n",
    "# x축(가로축)과 y축(세로축)에 레이블 추가\n",
    "plt.xlabel('alcohol')\n",
    "plt.ylabel('freq')\n",
    "plt.show()"
   ]
  },
  {
   "cell_type": "code",
   "execution_count": null,
   "metadata": {},
   "outputs": [],
   "source": [
    "# 와인 품종이 class_1 혹은 class_2인 데이터의 성분만을 추출\n",
    "class_1 = df_attr_label[df_attr_label['label'] == 'class_1']\n",
    "class_2 = df_attr_label[df_attr_label['label'] == 'class_2']\n",
    "# 조금 전 추출한 데이터까지 세 데이터를 합침\n",
    "class012_alcohol = [class_0['alcohol'], class_1['alcohol'], class_2['alcohol']]\n",
    "\n",
    "# 박스플롯 생성\n",
    "plt.boxplot(class012_alcohol)\n",
    "# x축(가로축)과 y축(세로축)에 레이블 추가\n",
    "plt.xlabel('class')\n",
    "plt.ylabel('alcohol')\n",
    "ax = plt.gca()\n",
    "# y축(세로축)에 레이블 추가\n",
    "plt.setp(ax, xticklabels = ['class_0','class_1','class_2'])\n",
    "plt.show()"
   ]
  },
  {
   "cell_type": "code",
   "execution_count": null,
   "metadata": {},
   "outputs": [],
   "source": [
    "# 산포도행렬 작성\n",
    "pd.tools.plotting.scatter_matrix(class_0[['alcohol','ash','magnesium','flavanoids']])\n",
    "plt.tight_layout()\n",
    "plt.show()"
   ]
  },
  {
   "cell_type": "code",
   "execution_count": null,
   "metadata": {},
   "outputs": [],
   "source": [
    "# class_0 품종에서 alcohol 칼럼과 ash 칼럼의 상관관계\n",
    "class_0_corr = np.corrcoef(class_0['alcohol'], class_0['ash'])\n",
    "class_0_corr[0,1]"
   ]
  },
  {
   "cell_type": "markdown",
   "metadata": {},
   "source": [
    "### 4．Pillow 라이브러리"
   ]
  },
  {
   "cell_type": "code",
   "execution_count": null,
   "metadata": {
    "collapsed": true
   },
   "outputs": [],
   "source": [
    "# Pillow 라이브러리 임포트\n",
    "from PIL import Image"
   ]
  },
  {
   "cell_type": "code",
   "execution_count": null,
   "metadata": {
    "scrolled": true
   },
   "outputs": [],
   "source": [
    "# 이미지를 읽어 들여 화면에 출력\n",
    "base_img = Image.open('./data/hymenoptera_data/ants/swiss-army-ant.jpg', 'r')\n",
    "base_img"
   ]
  },
  {
   "cell_type": "code",
   "execution_count": null,
   "metadata": {},
   "outputs": [],
   "source": [
    "# 이미지 크기를 출력\n",
    "base_img.size"
   ]
  },
  {
   "cell_type": "code",
   "execution_count": null,
   "metadata": {},
   "outputs": [],
   "source": [
    "# 이미지를 128*128로 리사이징해서 화면에 출력\n",
    "resize_img = base_img.resize((128, 128))\n",
    "resize_img"
   ]
  },
  {
   "cell_type": "code",
   "execution_count": null,
   "metadata": {},
   "outputs": [],
   "source": [
    "# 이미지를 반시계방향으로 45도 회전시킨 뒤 화면에 출력\n",
    "rotate_img = resize_img.rotate(45)\n",
    "rotate_img"
   ]
  },
  {
   "cell_type": "code",
   "execution_count": null,
   "metadata": {
    "scrolled": true
   },
   "outputs": [],
   "source": [
    "# 픽셀값을 RGB 채널별로 분리\n",
    "r,g,b = base_img.split()\n",
    "# R채널 값을 화면에 출력\n",
    "pd.DataFrame(np.array(r))"
   ]
  },
  {
   "cell_type": "code",
   "execution_count": null,
   "metadata": {
    "scrolled": true
   },
   "outputs": [],
   "source": [
    "# G채널 값을 화면에 출력\n",
    "pd.DataFrame(np.array(g))"
   ]
  },
  {
   "cell_type": "code",
   "execution_count": null,
   "metadata": {
    "scrolled": true
   },
   "outputs": [],
   "source": [
    "# B채널 값을 화면에 출력\n",
    "pd.DataFrame(np.array(b))"
   ]
  },
  {
   "cell_type": "code",
   "execution_count": null,
   "metadata": {
    "scrolled": true
   },
   "outputs": [],
   "source": [
    "# 픽셀값을 NumPy 배열로 변환한 뒤 화면에 출력\n",
    "base_img_px = np.array(base_img)\n",
    "base_img_px"
   ]
  },
  {
   "cell_type": "code",
   "execution_count": null,
   "metadata": {},
   "outputs": [],
   "source": [
    "# 이미지를 그레이스케일로 변환\n",
    "gray_img = base_img.convert('L')\n",
    "gray_img"
   ]
  },
  {
   "cell_type": "code",
   "execution_count": null,
   "metadata": {
    "scrolled": true
   },
   "outputs": [],
   "source": [
    "# 픽셀값 화면에 출력하기\n",
    "pd.DataFrame(np.array(gray_img))"
   ]
  },
  {
   "cell_type": "code",
   "execution_count": null,
   "metadata": {
    "collapsed": true
   },
   "outputs": [],
   "source": [
    "# 이미지 저장\n",
    "gray_img.save('./data/gray_swiss-army-ant.jpg')"
   ]
  },
  {
   "cell_type": "code",
   "execution_count": null,
   "metadata": {},
   "outputs": [],
   "source": [
    "from PIL import ImageOps\n",
    "\n",
    "# 이미지를 좌우로 반전\n",
    "ImageOps.mirror(base_img)\n",
    "# 이미지를 상하로 반전\n",
    "ImageOps.flip(base_img)"
   ]
  },
  {
   "cell_type": "code",
   "execution_count": null,
   "metadata": {},
   "outputs": [],
   "source": [
    "from PIL import ImageFilter\n",
    "\n",
    "# 이미지에 블러 필터를 적용\n",
    "base_img.filter(ImageFilter.BLUR)\n",
    "# 이미지의 윤곽을 추출\n",
    "base_img.filter(ImageFilter.FIND_EDGES)"
   ]
  },
  {
   "cell_type": "code",
   "execution_count": null,
   "metadata": {},
   "outputs": [],
   "source": [
    "from PIL import ImageEnhance\n",
    "\n",
    "# 이미지 콘트라스트 조절\n",
    "enhancer = ImageEnhance.Contrast(base_img)\n",
    "enhancer.enhance(0.5)\n",
    "\n",
    "# 이미지 밝기 조절\n",
    "enhancer = ImageEnhance.Brightness(base_img)\n",
    "enhancer.enhance(0.5)"
   ]
  },
  {
   "cell_type": "markdown",
   "metadata": {},
   "source": [
    "### 5．KoNLPy 라이브러리"
   ]
  },
  {
   "cell_type": "code",
   "execution_count": null,
   "metadata": {
    "collapsed": true
   },
   "outputs": [],
   "source": [
    "# KoNLPy 라이브러리 임포트\n",
    "from konlpy.tag import Kkma"
   ]
  },
  {
   "cell_type": "code",
   "execution_count": null,
   "metadata": {},
   "outputs": [],
   "source": [
    "# 형태소 단위로 문장을 분석\n",
    "kkma = Kkma()\n",
    "\n",
    "# 형태소 분석\n",
    "print(kkma.morphs(u'공부를 하면할수록 모르는게 많다는 것을 알게 됩니다.'))"
   ]
  },
  {
   "cell_type": "code",
   "execution_count": null,
   "metadata": {},
   "outputs": [],
   "source": [
    "# 문장에서 명사만을 추출\n",
    "kkma = Kkma()\n",
    "\n",
    "# 명사 추출\n",
    "print(kkma.nouns(u'대학에서 DB, 통계학, 이산수학 등을 배웠지만...'))"
   ]
  },
  {
   "cell_type": "code",
   "execution_count": null,
   "metadata": {},
   "outputs": [],
   "source": [
    "# 분석된 형태소에 품사 정보를 추가\n",
    "kkma = Kkma()\n",
    "\n",
    "# 품사 정보\n",
    "print(kkma.pos(u'다 까먹어버렸네요?ㅋㅋ'))"
   ]
  },
  {
   "cell_type": "markdown",
   "metadata": {},
   "source": [
    "### 6．서로 다른 포맷으로 데이터 변환"
   ]
  },
  {
   "cell_type": "code",
   "execution_count": null,
   "metadata": {
    "scrolled": true
   },
   "outputs": [],
   "source": [
    "# 원본 데이터(Numpy 배열)를 화면에 출력\n",
    "np_attr = wine.data\n",
    "np_attr"
   ]
  },
  {
   "cell_type": "code",
   "execution_count": null,
   "metadata": {
    "scrolled": true
   },
   "outputs": [],
   "source": [
    "# Numpy 배열을 데이터프레임으로 변환\n",
    "df_attr = pd.DataFrame(np_attr)\n",
    "df_attr"
   ]
  },
  {
   "cell_type": "code",
   "execution_count": null,
   "metadata": {},
   "outputs": [],
   "source": [
    "# Numpy 배열을 리스트로 변환\n",
    "lst_attr = np_attr.tolist()\n",
    "lst_attr"
   ]
  },
  {
   "cell_type": "code",
   "execution_count": null,
   "metadata": {},
   "outputs": [],
   "source": [
    "# 데이터프레임을 Numpy 배열로 변환\n",
    "np_attr = df_attr.as_matrix()\n",
    "np_attr"
   ]
  },
  {
   "cell_type": "code",
   "execution_count": null,
   "metadata": {},
   "outputs": [],
   "source": [
    "# 데이터프레임을 리스트로 변환\n",
    "lst_attr = df_attr.as_matrix().tolist()\n",
    "lst_attr"
   ]
  },
  {
   "cell_type": "code",
   "execution_count": null,
   "metadata": {
    "scrolled": true
   },
   "outputs": [],
   "source": [
    "# 리스트를 데이터프레임으로 변환\n",
    "df_attr = pd.DataFrame(lst_attr)\n",
    "df_attr"
   ]
  }
 ],
 "metadata": {
  "kernelspec": {
   "display_name": "Python 3",
   "language": "python",
   "name": "python3"
  },
  "language_info": {
   "codemirror_mode": {
    "name": "ipython",
    "version": 3
   },
   "file_extension": ".py",
   "mimetype": "text/x-python",
   "name": "python",
   "nbconvert_exporter": "python",
   "pygments_lexer": "ipython3",
   "version": "3.6.6"
  }
 },
 "nbformat": 4,
 "nbformat_minor": 2
}
